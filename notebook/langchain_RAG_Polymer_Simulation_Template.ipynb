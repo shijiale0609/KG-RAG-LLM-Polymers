{
  "nbformat": 4,
  "nbformat_minor": 0,
  "metadata": {
    "colab": {
      "private_outputs": true,
      "provenance": []
    },
    "kernelspec": {
      "name": "python3",
      "display_name": "Python 3"
    },
    "language_info": {
      "name": "python"
    }
  },
  "cells": [
    {
      "cell_type": "code",
      "execution_count": null,
      "metadata": {
        "id": "fYzypFmI3z2h"
      },
      "outputs": [],
      "source": [
        "!pip install langchain\n",
        "!pip install neo4j\n",
        "!pip install -U langchain-openai\n",
        "!pip install pyvis\n",
        "!pip install pypdf\n",
        "!pip install langchain-chroma"
      ]
    },
    {
      "cell_type": "code",
      "source": [
        "import os\n",
        "import openai\n",
        "import sys\n",
        "\n",
        "from langchain.document_loaders import PyPDFLoader\n",
        "from langchain.docstore.document import Document\n",
        "from langchain.text_splitter import RecursiveCharacterTextSplitter\n",
        "from langchain_community.vectorstores import Chroma\n",
        "from langchain_openai import OpenAIEmbeddings\n",
        "from langchain_openai import OpenAI\n",
        "# from langchain.llms import OpenAI (deprecated)\n",
        "# from langchain.chat_models import ChatOpenAI (deprecated)\n",
        "from langchain.retrievers.self_query.base import SelfQueryRetriever\n",
        "from langchain.chains.query_constructor.base import AttributeInfo\n",
        "from langchain.retrievers import ContextualCompressionRetriever\n",
        "from langchain.retrievers.document_compressors import LLMChainExtractor\n",
        "from langchain.chains import RetrievalQA\n"
      ],
      "metadata": {
        "id": "e_cntVHJ9WzH"
      },
      "execution_count": null,
      "outputs": []
    },
    {
      "cell_type": "code",
      "source": [
        "!git clone https://github.com/shijiale0609/KG-RAG-LLM-Polymers.git"
      ],
      "metadata": {
        "id": "VJid83to9bpN"
      },
      "execution_count": null,
      "outputs": []
    },
    {
      "cell_type": "markdown",
      "source": [
        "## Include your OpenAI API key\n"
      ],
      "metadata": {
        "id": "T3qyrKza-P-r"
      }
    },
    {
      "cell_type": "code",
      "source": [
        "os.environ[\"OPENAI_API_KEY\"] = 'sk-proj-xxxxx'\n",
        "OPENAI_API_KEY = os.environ[\"OPENAI_API_KEY\"]\n",
        "openai.api_key = os.environ[\"OPENAI_API_KEY\"]"
      ],
      "metadata": {
        "id": "wJyKHd9k-WXj"
      },
      "execution_count": null,
      "outputs": []
    },
    {
      "cell_type": "code",
      "source": [
        "loader = PyPDFLoader(\"./KG-RAG-LLM-Polymers/gartner-jayaraman-2019-modeling-and-simulations-of-polymers-a-roadmap.pdf\")\n",
        "pages = loader.load()\n",
        "\n",
        "text_splitter = RecursiveCharacterTextSplitter(\n",
        "    chunk_size = 1500,\n",
        "    chunk_overlap = 150\n",
        ")\n",
        "\n",
        "splits = text_splitter.split_documents(pages)\n"
      ],
      "metadata": {
        "id": "pN9v2IL24rX3"
      },
      "execution_count": null,
      "outputs": []
    },
    {
      "cell_type": "code",
      "source": [
        "embeddings_model = OpenAIEmbeddings(model=\"text-embedding-3-large\")"
      ],
      "metadata": {
        "id": "0O8hvgE-5uAr"
      },
      "execution_count": null,
      "outputs": []
    },
    {
      "cell_type": "code",
      "source": [
        "!sudo rm -rf ./docs/chroma"
      ],
      "metadata": {
        "id": "RWE-8TJ2-2YF"
      },
      "execution_count": null,
      "outputs": []
    },
    {
      "cell_type": "code",
      "source": [
        "persist_directory = 'docs/chroma/'\n",
        "\n",
        "vectorstore = Chroma.from_documents(\n",
        "    documents=splits,\n",
        "    embedding = embeddings_model,\n",
        "    persist_directory=persist_directory\n",
        ")\n"
      ],
      "metadata": {
        "id": "uyswWSqh6c9P"
      },
      "execution_count": null,
      "outputs": []
    },
    {
      "cell_type": "code",
      "source": [
        "llm = OpenAI(temperature = 0)"
      ],
      "metadata": {
        "id": "flnhnBIh_4wF"
      },
      "execution_count": null,
      "outputs": []
    },
    {
      "cell_type": "code",
      "source": [
        "# # (deprecated)\n",
        "# from langchain.chat_models import ChatOpenAI\n",
        "# llm = ChatOpenAI(model_name=\"gpt-3.5-turbo\", temperature=0)"
      ],
      "metadata": {
        "id": "ehdSAkjuBOtb"
      },
      "execution_count": null,
      "outputs": []
    },
    {
      "cell_type": "markdown",
      "source": [
        "## Vector RAG"
      ],
      "metadata": {
        "id": "S63C-cC3Bq4X"
      }
    },
    {
      "cell_type": "code",
      "source": [
        "qa_chain = RetrievalQA.from_chain_type(\n",
        "    llm,\n",
        "    retriever=vectorstore.as_retriever()\n",
        ")"
      ],
      "metadata": {
        "id": "u9gp9crAAlh_"
      },
      "execution_count": null,
      "outputs": []
    },
    {
      "cell_type": "markdown",
      "source": [
        "## Test Q/A"
      ],
      "metadata": {
        "id": "uuTrr4nQBaSa"
      }
    },
    {
      "cell_type": "code",
      "source": [
        "question = \" What are steps to learn modeling and simulation of polymers?\"\n",
        "\n",
        "result = qa_chain({\"query\": question})\n",
        "result[\"result\"]"
      ],
      "metadata": {
        "id": "VCXraPg6BzjB"
      },
      "execution_count": null,
      "outputs": []
    },
    {
      "cell_type": "code",
      "source": [
        "question = \"What are difficulties in the research fields of modeling and simulation of polymers?\"\n",
        "\n",
        "result = qa_chain({\"query\": question})\n",
        "result[\"result\"]"
      ],
      "metadata": {
        "id": "mJuWqk6dB6H4"
      },
      "execution_count": null,
      "outputs": []
    },
    {
      "cell_type": "markdown",
      "source": [
        "# Neo4j Knowledge Graph (working in progress)"
      ],
      "metadata": {
        "id": "7dTY-lhlN5xk"
      }
    },
    {
      "cell_type": "code",
      "source": [
        "from dotenv import load_dotenv\n",
        "import os\n",
        "\n",
        "from langchain_community.graphs import Neo4jGraph"
      ],
      "metadata": {
        "id": "FInPJppiQVzs"
      },
      "execution_count": null,
      "outputs": []
    },
    {
      "cell_type": "code",
      "source": [
        "os.environ[\"NEO4J_URI\"] = \"neo4j+s://9115ee59.databases.neo4j.io\"\n",
        "os.environ[\"NEO4J_USERNAME\"] = \"neo4j\"\n",
        "os.environ[\"NEO4J_PASSWORD\"] = \"zH0ctb5EBfJmZOWr9zC_DhmNCqwoyVDRnEwSz1a0iB8\"\n",
        "os.environ[\"NEO4J_DATABASE\"] = \"neo4j\""
      ],
      "metadata": {
        "id": "GbDAOzDLQn10"
      },
      "execution_count": null,
      "outputs": []
    },
    {
      "cell_type": "code",
      "source": [
        "NEO4J_URL = os.getenv('NEO4J_URL')\n",
        "NEO4J_USERNAME =  os.getenv('NEO4J_USERNAME')\n",
        "NEO4J_PASSWORD =  os.getenv('NEO4J_PASSWORD')\n",
        "NEO4J_DATABASE =  os.getenv('NEO4J_DATABASE')"
      ],
      "metadata": {
        "id": "-RQtsc42RN5f"
      },
      "execution_count": null,
      "outputs": []
    },
    {
      "cell_type": "code",
      "source": [
        "kg = Neo4jGraph(\n",
        "    url=NEO4J_URL,\n",
        "    username=NEO4J_USERNAME,\n",
        "    password=NEO4J_PASSWORD,\n",
        "    database=NEO4J_DATABASE\n",
        ")"
      ],
      "metadata": {
        "id": "5f58No0X_Ilo"
      },
      "execution_count": null,
      "outputs": []
    },
    {
      "cell_type": "code",
      "source": [
        "from dotenv import load_dotenv\n",
        "import os\n",
        "\n",
        "import textwrap\n",
        "\n",
        "# Langchain\n",
        "from langchain_community.graphs import Neo4jGraph\n",
        "from langchain_community.vectorstores import Neo4jVector\n",
        "from langchain_openai import OpenAIEmbeddings\n",
        "from langchain.chains import RetrievalQAWithSourcesChain\n",
        "from langchain.prompts.prompt import PromptTemplate\n",
        "from langchain.chains import GraphCypherQAChain\n",
        "from langchain_openai import ChatOpenAI\n",
        "\n",
        "# Warning control\n",
        "import warnings\n",
        "warnings.filterwarnings(\"ignore\")"
      ],
      "metadata": {
        "id": "Nu-zScvE51J7"
      },
      "execution_count": null,
      "outputs": []
    },
    {
      "cell_type": "code",
      "source": [
        "OPENAI_API_KEY = os.getenv('OPENAI_API_KEY')\n",
        "# Global constants\n",
        "VECTOR_INDEX_NAME = 'form_10k_chunks'\n",
        "VECTOR_NODE_LABEL = 'Chunk'\n",
        "VECTOR_SOURCE_PROPERTY = 'text'\n",
        "VECTOR_EMBEDDING_PROPERTY = 'textEmbedding'"
      ],
      "metadata": {
        "id": "QKrOyNyD6BEt"
      },
      "execution_count": null,
      "outputs": []
    },
    {
      "cell_type": "code",
      "source": [
        "CYPHER_GENERATION_TEMPLATE = \"\"\"Task:Generate Cypher statement to\n",
        "query a graph database.\n",
        "Instructions:\n",
        "Use only the provided relationship types and properties in the\n",
        "schema. Do not use any other relationship types or properties that\n",
        "are not provided.\n",
        "Schema:\n",
        "{schema}\n",
        "Note: Do not include any explanations or apologies in your responses.\n",
        "Do not respond to any questions that might ask anything else than\n",
        "for you to construct a Cypher statement.\n",
        "Do not include any text except the generated Cypher statement.\n",
        "Examples: Here are a few examples of generated Cypher\n",
        "statements for particular questions:\n",
        "\n",
        "# What investment firms are in San Francisco?\n",
        "MATCH (mgr:Manager)-[:LOCATED_AT]->(mgrAddress:Address)\n",
        "    WHERE mgrAddress.city = 'San Francisco'\n",
        "RETURN mgr.managerName\n",
        "The question is:\n",
        "{question}\"\"\"\n",
        "\n",
        "CYPHER_GENERATION_PROMPT = PromptTemplate(\n",
        "    input_variables=[\"schema\", \"question\"],\n",
        "    template=CYPHER_GENERATION_TEMPLATE\n",
        ")\n",
        "\n",
        "cypherChain = GraphCypherQAChain.from_llm(\n",
        "    ChatOpenAI(temperature=0),\n",
        "    graph=kg,\n",
        "    verbose=True,\n",
        "    # cypher_prompt=CYPHER_GENERATION_PROMPT,\n",
        ")"
      ],
      "metadata": {
        "id": "tHfFOxL_e4mm"
      },
      "execution_count": null,
      "outputs": []
    },
    {
      "cell_type": "code",
      "source": [
        "def prettyCypherChain(question: str) -> str:\n",
        "    response = cypherChain.run(question)\n",
        "    print(textwrap.fill(response, 60))"
      ],
      "metadata": {
        "id": "syNg1rUgfHdX"
      },
      "execution_count": null,
      "outputs": []
    },
    {
      "cell_type": "code",
      "source": [
        "question = \"What are steps to learn modeling and simulation in polymers?\"\n",
        "\n",
        "prettyCypherChain(question)"
      ],
      "metadata": {
        "id": "JhOIL5S0fLsa"
      },
      "execution_count": null,
      "outputs": []
    },
    {
      "cell_type": "code",
      "source": [
        "# Check the graph schema\n",
        "kg.refresh_schema()\n",
        "print(textwrap.fill(kg.schema, 60))"
      ],
      "metadata": {
        "id": "O30e0lpJfjgP"
      },
      "execution_count": null,
      "outputs": []
    }
  ]
}